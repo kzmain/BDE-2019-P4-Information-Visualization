{
 "cells": [
  {
   "cell_type": "code",
   "execution_count": null,
   "metadata": {},
   "outputs": [],
   "source": [
    "19465081946508194650819465081946508"
   ]
  },
  {
   "cell_type": "code",
   "execution_count": 4,
   "metadata": {
    "collapsed": true,
    "jupyter": {
     "outputs_hidden": true
    }
   },
   "outputs": [
    {
     "name": "stdout",
     "output_type": "stream",
     "text": [
      "+--------------------+--------------------+--------+-----------+--------------------+----------+-------------+-------+-------------+--------------------+\n",
      "|                  id|            filename|filesize|compression|          online_url|created_at|last_modified|omni_id|created_by_id|      metadata_id_id|\n",
      "+--------------------+--------------------+--------+-----------+--------------------+----------+-------------+-------+-------------+--------------------+\n",
      "|523682e0-b657-405...|static/data_bin/p...|  109312|       jpeg|http://www.wga.hu...|2017-11-15|   2017-11-15|      0|            1|57c8c00d-a868-4ad...|\n",
      "|fc31a393-0d1a-41d...|static/data_bin/p...|  136912|       jpeg|http://www.wga.hu...|2017-11-15|   2017-11-15|      1|            1|e1364764-cc50-4bb...|\n",
      "|ec7a17fd-9068-4e0...|static/data_bin/p...|  113770|       jpeg|http://www.wga.hu...|2017-11-15|   2017-11-15|      2|            1|cec2ba4b-7835-473...|\n",
      "|5031b79c-8ef3-4ff...|static/data_bin/p...|   95023|       jpeg|http://www.wga.hu...|2017-11-15|   2017-11-15|      3|            1|cd381872-051f-4f3...|\n",
      "|d960fa96-c1fc-4c7...|static/data_bin/p...|   58720|       jpeg|http://www.wga.hu...|2017-11-15|   2017-11-15|      4|            1|940966d4-d7ff-48c...|\n",
      "|a37151bc-f06b-442...|static/data_bin/p...|  219082|       jpeg|http://www.wga.hu...|2017-11-15|   2017-11-15|      5|            1|6068e28c-daef-480...|\n",
      "|e9db81fe-308b-4d9...|static/data_bin/p...|  120651|       jpeg|http://www.wga.hu...|2017-11-15|   2017-11-15|      6|            1|852852cf-59c4-423...|\n",
      "|190a90ee-1b84-4e4...|static/data_bin/p...|  195717|       jpeg|http://www.wga.hu...|2017-11-15|   2017-11-15|      7|            1|b74602ad-5d5b-479...|\n",
      "|142a5577-9c5a-400...|static/data_bin/p...|   84647|       jpeg|http://www.wga.hu...|2017-11-15|   2017-11-15|      8|            1|1994b2b6-67e6-434...|\n",
      "|5d5024a1-d705-4c5...|static/data_bin/p...|  171196|       jpeg|http://www.wga.hu...|2017-11-15|   2017-11-15|      9|            1|edce41b7-3682-47c...|\n",
      "|2bbaf16c-1509-4f2...|static/data_bin/p...|  200046|       jpeg|http://www.wga.hu...|2017-11-15|   2017-11-15|     10|            1|79fafc0a-c170-490...|\n",
      "|52ac3abc-e75c-4a0...|static/data_bin/p...|  195846|       jpeg|http://www.wga.hu...|2017-11-15|   2017-11-15|     11|            1|acf3e1ff-5be2-480...|\n",
      "|d1ee6c61-74f6-49a...|static/data_bin/p...|  188549|       jpeg|http://www.wga.hu...|2017-11-15|   2017-11-15|     12|            1|3adae4aa-c58f-4aa...|\n",
      "|09aab2ee-5d8a-4fe...|static/data_bin/p...|  189883|       jpeg|http://www.wga.hu...|2017-11-15|   2017-11-15|     13|            1|d3954a58-4cfd-439...|\n",
      "|b92e3a10-239d-492...|static/data_bin/p...|  167074|       jpeg|http://www.wga.hu...|2017-11-15|   2017-11-15|     14|            1|04a57e76-e78c-457...|\n",
      "|058ca973-df84-48f...|static/data_bin/p...|  135929|       jpeg|http://www.wga.hu...|2017-11-15|   2017-11-15|     15|            1|eb108013-ce8c-49f...|\n",
      "|63984ba1-af6d-496...|static/data_bin/p...|  112723|       jpeg|http://www.wga.hu...|2017-11-15|   2017-11-15|     16|            1|ad0df659-3126-443...|\n",
      "|72e95771-97fe-49f...|static/data_bin/p...|   99636|       jpeg|http://www.wga.hu...|2017-11-15|   2017-11-15|     17|            1|bca5aafd-dfe9-4e5...|\n",
      "|031d1b2e-a991-442...|static/data_bin/p...|   62389|       jpeg|http://www.wga.hu...|2017-11-15|   2017-11-15|     18|            1|e8d41acc-e325-4c6...|\n",
      "|3bd9a1eb-1dfe-41d...|static/data_bin/p...|  166570|       jpeg|http://www.wga.hu...|2017-11-15|   2017-11-15|     19|            1|a0d57f11-99f6-4b2...|\n",
      "+--------------------+--------------------+--------+-----------+--------------------+----------+-------------+-------+-------------+--------------------+\n",
      "only showing top 20 rows\n",
      "\n"
     ]
    }
   ],
   "source": [
    "csv_folder = \"./data/csv/\"\n",
    "csv_datadump = \"image-info.csv\"\n",
    "df = spark.read.csv(csv_folder + csv_datadump, header=True)\n",
    "df.show()"
   ]
  },
  {
   "cell_type": "code",
   "execution_count": 5,
   "metadata": {},
   "outputs": [
    {
     "data": {
      "text/plain": [
       "1946512"
      ]
     },
     "execution_count": 5,
     "metadata": {},
     "output_type": "execute_result"
    }
   ],
   "source": [
    "df.count()"
   ]
  },
  {
   "cell_type": "code",
   "execution_count": 10,
   "metadata": {},
   "outputs": [
    {
     "data": {
      "text/plain": [
       "1946508"
      ]
     },
     "execution_count": 10,
     "metadata": {},
     "output_type": "execute_result"
    }
   ],
   "source": [
    "df.select(\"omni_id\").distinct().count()"
   ]
  },
  {
   "cell_type": "code",
   "execution_count": 9,
   "metadata": {},
   "outputs": [
    {
     "name": "stdout",
     "output_type": "stream",
     "text": [
      "+-----------+-------+\n",
      "|compression|  count|\n",
      "+-----------+-------+\n",
      "|       jpeg|1934773|\n",
      "|        gif|     27|\n",
      "|        png|  11701|\n",
      "|        bmp|      8|\n",
      "|       tiff|      3|\n",
      "+-----------+-------+\n",
      "\n"
     ]
    }
   ],
   "source": [
    "df.groupby(\"compression\").count().show(1000)"
   ]
  }
 ],
 "metadata": {
  "kernelspec": {
   "display_name": "Python 3",
   "language": "python",
   "name": "python3"
  },
  "language_info": {
   "codemirror_mode": {
    "name": "ipython",
    "version": 3
   },
   "file_extension": ".py",
   "mimetype": "text/x-python",
   "name": "python",
   "nbconvert_exporter": "python",
   "pygments_lexer": "ipython3",
   "version": "3.6.9"
  }
 },
 "nbformat": 4,
 "nbformat_minor": 4
}
